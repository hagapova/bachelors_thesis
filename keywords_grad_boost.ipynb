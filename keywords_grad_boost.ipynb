{
  "nbformat": 4,
  "nbformat_minor": 0,
  "metadata": {
    "colab": {
      "name": "keywords_grad_boost.ipynb",
      "provenance": [],
      "collapsed_sections": [],
      "private_outputs": true
    },
    "kernelspec": {
      "name": "python3",
      "display_name": "Python 3"
    },
    "language_info": {
      "name": "python"
    }
  },
  "cells": [
    {
      "cell_type": "code",
      "execution_count": null,
      "metadata": {
        "id": "T6AKPIPiMWSR"
      },
      "outputs": [],
      "source": [
        "import pandas as pd\n",
        "import numpy as np\n",
        "import csv\n",
        "import re\n",
        "import matplotlib.pyplot as plt\n",
        "plt.rcParams[\"figure.figsize\"] = (20,10)\n",
        "\n",
        "import time\n",
        "import datetime\n",
        "import sklearn\n",
        "from sklearn import metrics\n",
        "from sklearn import datasets, ensemble\n",
        "\n",
        "from sklearn.feature_extraction.text import TfidfVectorizer\n",
        "from sklearn.model_selection import train_test_split\n",
        "from sklearn import linear_model"
      ]
    },
    {
      "cell_type": "code",
      "source": [
        "from nltk.stem import WordNetLemmatizer \n",
        "import nltk\n",
        "nltk.download('wordnet')"
      ],
      "metadata": {
        "id": "UFt-iyKVN67x"
      },
      "execution_count": null,
      "outputs": []
    },
    {
      "cell_type": "code",
      "source": [
        "abstracts_df = pd.read_csv('df.csv', delimiter=',', index_col=0)\n",
        "abstracts_df['Date'] = pd.to_datetime( abstracts_df['Date']).map(datetime.datetime.toordinal)"
      ],
      "metadata": {
        "id": "Hg-q4S5kNqMN"
      },
      "execution_count": null,
      "outputs": []
    },
    {
      "cell_type": "markdown",
      "source": [
        "### vocabulary"
      ],
      "metadata": {
        "id": "XV0O_rd37wjq"
      }
    },
    {
      "cell_type": "code",
      "source": [
        "#vocabulary = pd.read_csv('words.csv', delimiter=',', index_col=0).index.to_list()"
      ],
      "metadata": {
        "id": "U0I42mO8N6MF"
      },
      "execution_count": null,
      "outputs": []
    },
    {
      "cell_type": "code",
      "source": [
        "# Max Correlation\n",
        "vocabulary = ['task', 'human', 'state art', 'artificial intelligence',\n",
        "       'prediction', 'challenging', 'outperforms', 'play', 'learned',\n",
        "       'baseline', 'challenge', 'predictive', 'ai', 'state action',\n",
        "       'policy', 'learn', 'player', 'generative model', 'paper', 'smart',\n",
        "       'art', 'generative', 'instruction', 'interpretable', 'online',\n",
        "       'industry', 'improve', 'offline', 'personal', 'logic program',\n",
        "       'efficacy', 'experience', 'novel', 'program', 'mcts', 'trust',\n",
        "       'bias', 'programming', 'pipeline', 'decision making', 'ask',\n",
        "       'deep', 'convolutional', 'evaluate', 'characterization',\n",
        "       'spatial temporal', 'game', 'complexity', 'deep learning',\n",
        "       'collected', 'set semantics', 'create', 'adversarial', 'rl',\n",
        "       'propose', 'vehicle', 'video', 'logic programming', 'learning',\n",
        "       'machine learning', 'quality', 'centric', 'benchmark',\n",
        "       'neural architecture', 'textit', 'aware', 'logic',\n",
        "       'human behavior', 'answer set', 'development artificial',\n",
        "       'participant', 'rl agent', 'safety', 'architecture',\n",
        "       'reinforcement learning', 'making', 'learning model', 'delivery',\n",
        "       'partially observable', 'data driven', 'significantly',\n",
        "       'reinforcement', 'stable model', 'travel', 'explanation', 'impact',\n",
        "       'destination', 'metric', 'summary', 'answer', 'real world',\n",
        "       'visual', 'traffic', 'demonstrate', 'learning process',\n",
        "       'deep reinforcement', 'curriculum', 'stable', 'effectiveness',\n",
        "       'agent model', 'contribution', 'extracting', 'application',\n",
        "       'transportation', 'users', 'playing', 'sector', 'validate',\n",
        "       'skill', 'fairness', 'behavioral', 'video game', 'presented',\n",
        "       'performance', 'work', 'ai based', 'language', 'sparse reward',\n",
        "       'effect', 'reaching', 'differentiable', 'interpretability',\n",
        "       'business process', 'reason', 'environment', 'catastrophic',\n",
        "       'runtime', 'python', 'release', 'intelligence ai', 'movement',\n",
        "       'score', 'opportunity', 'complex', 'new task', 'raw',\n",
        "       'ground truth', 'tree search', 'ethical', 'method', 'setup',\n",
        "       'counterfactual', 'bot', 'embedding model', 'embedding',\n",
        "       'knowledge graph', 'strength', 'sequential decision', 'limited',\n",
        "       'deep rl', 'scenario', 'set', 'budget', 'performing', 'stage',\n",
        "       'developed', 'creating', 'manual', 'indicator', 'dqn', 'loan',\n",
        "       'ass', 'negation', 'deterministic policy', 'uniform', 'reward',\n",
        "       'medical', 'flow', 'healthcare', 'conformance checking', 'extend',\n",
        "       'partially', 'formalism', 'explainable', 'theory mind',\n",
        "       'transformation', 'disease', 'team', 'causal model', 'extended',\n",
        "       'history', 'technological', 'training', 'learning technique',\n",
        "       'based solution', 'trace', 'imperfect information',\n",
        "       'resource allocation', 'pooling', 'ontology', 'principle',\n",
        "       'human ai', 'semantics', 'sparse', 'multi', 'driven', 'suggestion',\n",
        "       'conformance', 'intensive', 'observable', 'task specific',\n",
        "       'health', 'opponent', 'allow', 'comprehension', 'public',\n",
        "       'efficiency', 'notion', 'forest', 'explainable artificial', 'rule',\n",
        "       'online planning', 'action based', 'explainability',\n",
        "       'explainable ai', 'professional', 'unexpected', 'atari',\n",
        "       'reproducibility', 'entity', 'open world', 'intervention',\n",
        "       'introduced', 'key', 'prior work', 'convolution', 'ethic', 'dlv',\n",
        "       'fewer', 'child', 'process mining', 'term memory', 'kg',\n",
        "       'knapsack', 'model learning', 'generation', 'significant',\n",
        "       'attention mechanism', 'calculus', 'research', 'room',\n",
        "       'constraint solver', 'tensor', 'transparency', 'crowd', 'xai',\n",
        "       'ai ethic', 'dynamic environment', 'origin', 'graph embedding',\n",
        "       'carlo', 'classical planning', 'action space', 'existence', 'iot',\n",
        "       'ontology development', 'low', 'mdp', 'monte', 'monte carlo',\n",
        "       'propositional', 'stakeholder', 'synthesis', 'generate',\n",
        "       'ml model', 'process monitoring', 'game ai', 'pcg', 'end end',\n",
        "       'evaluation', 'fuel', 'minecraft', 'particular', 'analytics',\n",
        "       'executing', 'rnn', 'cnn', 'propositional logic', 'adversary',\n",
        "       'problem', 'disjunctive logic', 'requires', 'setting', 'dataset',\n",
        "       'attribution', 'constraint propagation', 'driving', 'tolerance',\n",
        "       'route', 'drift', 'gameplay', 'game design', 'trajectory', '2017',\n",
        "       'constraint satisfaction', 'analogical', 'known', 'especially',\n",
        "       'general game', 'markov decision', 'set based', 'domain expert',\n",
        "       'timed', 'ddpg', 'intelligence', 'syntactical', 'artificial',\n",
        "       'sat based', 'training data', 'urban', 'bandit', 'aim',\n",
        "       'event log', 'process model', 'symbolic', 'transfer', 'cloning',\n",
        "       'link prediction', 'faced', 'action model', 'pricing', 'cognitive',\n",
        "       'address', 'typicality', 'chinese', 'batch', 'greenhouse',\n",
        "       'paradigm', 'modeled', 'predictive model', 'driving car',\n",
        "       'proximity', 'critic', 'graph', 'constraint', 'assistant',\n",
        "       'reasoning capability', 'existing method', 'admissible', 'gym',\n",
        "       'game playing', 'prediction model', 'double', 'acceptability',\n",
        "       'tsp', 'model semantics', 'focus', 'encoder', 'present',\n",
        "       'intelligent agent', '2018', 'experiment', 'intent',\n",
        "       'activity recognition', 'floor', 'logic typicality', 'competence',\n",
        "       'lstm', 'rl method', 'anomaly', 'revision', 'el', 'shot', 'state',\n",
        "       'teammate', 'food', 'machine', 'latent', 'mass function',\n",
        "       'frontier', 'planning agent', 'benefit', 'model free', 'tracing',\n",
        "       'agent', 'sparql', 'attribution method', 'exploration',\n",
        "       'linear time', 'defined', 'success', 'power grid', 'discriminate',\n",
        "       'social', 'source code', 'shared', 'monitor', 'theory',\n",
        "       'self driving', 'logical rule', 'long horizon',\n",
        "       'uncertain information', 'office', 'heterogeneous agent',\n",
        "       'proposed', 'considered', 'high dimensional', 'board game',\n",
        "       'station', 'design pattern', 'nonmonotonic', 'grounded',\n",
        "       'centralized', 'meaningful', 'fcms', 'agi', 'best', 'platform',\n",
        "       'attribute', 'crowdsourcing', 'founded semantics', 'simple',\n",
        "       'big data', 'database', 'critical', 'competition', 'satisfaction',\n",
        "       'capability', 'human user', 'open source', 'subtasks',\n",
        "       'causal relationship', 'ingredient', 'use case', 'autoencoder',\n",
        "       'observational data', 'common', 'prior', 'deep network',\n",
        "       'graph structure', 'intelligent transportation',\n",
        "       'counterfactual explanation', 'based planner', 'sample efficiency',\n",
        "       'time information', 'computational complexity', 'broad',\n",
        "       'interactive learning', 'level generation', 'savile', 'savile row',\n",
        "       'student performance', 'logical reasoning', 'general video',\n",
        "       'city', 'company', 'event data', 'credit assignment', 'deduction',\n",
        "       'transformer', 'fact checking', 'conceptual', 'anchor',\n",
        "       'based semantics', 'filtering', 'pre trained', 'tour',\n",
        "       'ai planning', 'domain size', 'bnns', 'optimal',\n",
        "       'structural causal', 'achievable', 'goal', 'imitation',\n",
        "       'sound complete', 'architecture search', 'replay', 'power',\n",
        "       'knowledge representation', 'developer', 'human level', 'decision',\n",
        "       'csp', 'governance', 'novelty', 'ai agent', 'racing', 'board',\n",
        "       'care', 'configuration', 'moral', '40', 'logistic', 'industry 40',\n",
        "       'information theoretic', 'skill level', 'forward', 'testing',\n",
        "       'big', 'tabular', 'contrastive', 'default', 'mechanic',\n",
        "       'disjunctive', 'prompt', 'mobility', 'temporal spatial',\n",
        "       'default logic', 'rl algorithm', 'optimal policy',\n",
        "       'social welfare', 'business', 'neuro symbolic', 'starcraft',\n",
        "       'causal structure', 'lifted', 'narrative', 'global',\n",
        "       'reward function', 'heterogeneous', 'learner', 'agents', 'dnn',\n",
        "       'left', 'way', 'bike', 'prolog', 'conceptnet', 'defeasible',\n",
        "       'heavy', 'risk', 'shown', 'lack', 'raw data', 'data source',\n",
        "       'explore', 'natural', 'distance', 'tend', 'behavior', 'atom',\n",
        "       'model generate', 'educational', 'called', 'interval type', 'iii',\n",
        "       'bike sharing', 'parsing', 'bert', 'card game', 'fidelity',\n",
        "       'variety', 'race', 'driven model', 'random forest', 'bird',\n",
        "       'horizon', 'fond', 'representation learning', 'founded',\n",
        "       'learning approach', 'similarity', 'qa', 'personal health',\n",
        "       'teaching', 'extrapolation', 'increasing', 'ast', 'youtube',\n",
        "       'ability', 'feedback', 'competency', 'climate change',\n",
        "       'extended logic', 'form', 'fuzzy number', 'adoption', 'usability',\n",
        "       'sell', 'max sat', 'execution', 'identity',\n",
        "       'cognitive architecture', 'subgoals', 'type fuzzy',\n",
        "       'artificial general', 'mtl', 'technical', 'container', 'surrogate',\n",
        "       'trustworthiness', 'credit', 'differential', 'forgetting',\n",
        "       'ranking based', 'biomedical', 'confident', 'gpu',\n",
        "       'set programming', 'personality', '20', 'naturalistic',\n",
        "       'psychology', 'word embeddings', 'similarity based', 'human loop',\n",
        "       'document', 'awareness', 'welfare', 'triplet', 'trustworthy',\n",
        "       'disjunction', 'learning representation', 'edition', 'operator',\n",
        "       'real', 'visited', 'judgement', 'attribute decision',\n",
        "       'controllable', 'students', 'belief', 'selection approach',\n",
        "       'syntax', 'argumentative', 'suboptimal', 'pickup delivery',\n",
        "       'salesman', 'explicit', 'sentential decision', 'copy',\n",
        "       'interesting', 'dnns', 'benchmark instance', 'width', 'consider',\n",
        "       'achieving', 'revenue', 'drl', 'unstructured', 'equivalent',\n",
        "       'enable', 'gain', 'future', 'dr', 'asymmetry', 'winner',\n",
        "       'efficiently', 'code', 'alphago', 'decide', 'test data',\n",
        "       'zero shot', 'combinatorial optimization', 'road',\n",
        "       'similarity measure', 'fps', 'state representation', '2013',\n",
        "       'black', 'microrts', 'informal', 'current state', 'sa',\n",
        "       'intention', 'pomcp', 'lstms', 'ai learning', 'smt', 'deductive',\n",
        "       'human cognition', 'clp', 'attention', 'weak', 'student model',\n",
        "       'brief', 'predictive process', 'advertising', 'proof',\n",
        "       'decision space', 'identify', 'interval valued', 'person',\n",
        "       'target', 'declarative', 'ai ml', 'indoor', 'path finding',\n",
        "       'teaming', 'definite', 'english', 'starcraft ii', 'succinct',\n",
        "       'single objective', 'road network', 'location', 'array', 'ebola',\n",
        "       'cultural', 'red', 'implementation', 'learning human',\n",
        "       'human perception', 'property', 'destination prediction',\n",
        "       'knapsack problem', 'ui', 'multiple domain', 'cumulative reward',\n",
        "       'judgment', 'previously', 'general policy', 'survey', 'disaster',\n",
        "       'preferred', 'scientific discovery', 'tile based',\n",
        "       'salesman problem', 'memory', 'model theoretic', 'abstraction',\n",
        "       'multi step', 'completion', 'compliance', 'transport', 'landmark',\n",
        "       'physician', 'belief change', 'resilient', 'classifier',\n",
        "       'negation failure', 'xor', 'kind', 'sense', 'neural symbolic',\n",
        "       'observational', 'dependency', 'day', 'root cause', 'socio',\n",
        "       'normal', 'judged', 'classical', 'human model', 'cdcl',\n",
        "       'misleading']"
      ],
      "metadata": {
        "id": "gka2qNgT7mnR"
      },
      "execution_count": null,
      "outputs": []
    },
    {
      "cell_type": "code",
      "source": [
        "#LogReg\n",
        "vocabulary = ['authors,', '\\\\leq', 'well-founded', 'coherence', 'john',\n",
        "  'default', 'isabelle', 'technical', 'structure.', 'studies', 'submission', 'experiments', 'recognized', 'contained','bits', 'matrices,', 'giving', 'known,', 'np-completeness', 'limit', '(b)','a.', 'portal', 'enumerate', 'physics.', 'algebra.', 'activity', 'e.g.','fixpoint', 'connections', 'illustrates', 'mentioned', 'quantifiers', 'relative', 'absolute','degrees', 'simulations', 'board', 'categories', 'error.', 'errors.', 'quadratic','$\\\\alpha$,', 'you', 'rewriting.', 'enterprise', 'vertices,', 'why', 'termination,','automotive', 'w.r.t.', 'code.', 'axioms.', 'c,', 'greatest', 'checks','two-variable', 'threads', 'traveling', 'content', 'salesman', 'see', 'mems','remains', 'regarding', 'prominent', 'testable', 'attempt', 'purely', 'argument.','communication.', 'version', '2010', 'display', 'mappings', 'formula.','environments', 'root', '(resp.', 'withdrawn', 'applicative', 'author.', 'also,','analogues', 'optimum', 'numbers,', 'undirected', 'minimization', 'harmonic', 'cut-elimination','s5', 'witnesses', 'double', 'e.g.,', 'rule-based', '2012', 'creates','bisimulations', 'hindi', '2013', 'incidence', 'concurrency,', 'theorem.', '2014.','answers', 'axiomatized', 'solved', '2015', 'v.', 'realizability', 'ready','lemmas', 'properties:', 'exploits', 'halting', '2016', 'frobenius', 'conflict','2017', 'competition.', '2016', 'file', 'issues.', 'univalent', 'authors.','size-change', 'informal', 'diameter', 'mention', '2018,', 'fractions', 'theorems.','principle,', 'cantor', 'al', 'graph-theoretic', 'relatively', 'seem', 'history','verifying', 'relates', 'complete.', 'essay', 'prover.', 'conflicts', 'chapter', 'platform.', 'superposition', 'inequality', 'amenable', 'tracks', 'flat', 'exploit', 'logics,', 'sessions', 'work,', 'position,', 'weakening', 'marginal', 'proportionality']\n",
        "vocabulary = [re.sub('[,\\.!?]', '', x) for x in vocabulary]\n",
        "vocabulary = list( dict.fromkeys(vocabulary) )\n"
      ],
      "metadata": {
        "id": "yIuuDdCPTOE_"
      },
      "execution_count": null,
      "outputs": []
    },
    {
      "cell_type": "code",
      "source": [
        "#LDA\n",
        "vocabulary = ['he','important','author','examples','development','practical','example','ideas','idea','generalizes','speech','discourse','semantic','parsing','syntactic','facial','fluctuations','presentations','parallel','parser','computation','codes','circuits','simulation','proper','temporal','grammar','tour','databases','machine','review','regular','computation','states','algebra','semantic','delay','including','theoretical','here','isabelle','order','default','inference','theories','conditional','higher','relations','shown','definition','possible','object','within','allows','postulates','defined','decision','extended','service','lattice','computation','algebra','search','infinite','states','certain','physics','called','space','computability','order','defined','presented','second','recursive','computation','possible','called','implementation','relations','order','infinite','polynomial','context','non','abstract','higher','first','power','free','technique','networks','security','will','important','mobile','image','high','simulation','development','order','will','checking','space','power','called','player','control','so','decision','order','polynomial','checking','verification','players','player','non','introduced','second','allows','order','player','called','optimal','strategy','modal','non','define','checking','verification','order','category','called','polynomial','higher','space','verification','abstract','strategy','agents','order','allows','agents','open','called','algebra','algebraic','category','non','boolean','order','agents','discuss','first','verification','agent','them','define','approaches','three']\n",
        "vocabulary = [re.sub('[,\\.!?]', '', x) for x in vocabulary]\n",
        "vocabulary = list( dict.fromkeys(vocabulary) )\n"
      ],
      "metadata": {
        "id": "DcdvBSMjW1Yc"
      },
      "execution_count": null,
      "outputs": []
    },
    {
      "cell_type": "code",
      "source": [
        "#vocabulary = ['he', 'she', 'they']"
      ],
      "metadata": {
        "id": "Nty5x1EXagoD"
      },
      "execution_count": null,
      "outputs": []
    },
    {
      "cell_type": "markdown",
      "source": [
        "### ."
      ],
      "metadata": {
        "id": "cCOooeJm70KY"
      }
    },
    {
      "cell_type": "code",
      "source": [
        "vocabulary[-1]"
      ],
      "metadata": {
        "id": "GlziFgNTOVs-"
      },
      "execution_count": null,
      "outputs": []
    },
    {
      "cell_type": "code",
      "source": [
        "corpus = abstracts_df['Abstract']\n",
        "vectorizer = TfidfVectorizer(vocabulary=vocabulary,\n",
        "                             ngram_range=(1, 2),\n",
        "                             use_idf=False,\n",
        "                             stop_words='english',\n",
        "                             norm='l1')\n",
        "X = vectorizer.fit_transform(corpus)\n",
        "X = pd.DataFrame.sparse.from_spmatrix( X)\n",
        "X.index = abstracts_df.index"
      ],
      "metadata": {
        "id": "5y3GUjhsPbqW"
      },
      "execution_count": null,
      "outputs": []
    },
    {
      "cell_type": "code",
      "source": [
        "X_train, X_test, y_train, y_test = train_test_split( X, abstracts_df['Date'], test_size=0.3, random_state=42)"
      ],
      "metadata": {
        "id": "oNdB1MwVQKwT"
      },
      "execution_count": null,
      "outputs": []
    },
    {
      "cell_type": "code",
      "source": [
        "X_train, X_test, y_train, y_test = train_test_split( X_train, y_train, test_size=0.1, random_state=42)"
      ],
      "metadata": {
        "id": "DyYzdFIzkILM"
      },
      "execution_count": null,
      "outputs": []
    },
    {
      "cell_type": "markdown",
      "source": [
        "### Model"
      ],
      "metadata": {
        "id": "Fr9p9Kz5_z4V"
      }
    },
    {
      "cell_type": "code",
      "source": [
        "# Linear\n",
        "model = linear_model.LinearRegression(fit_intercept=True).fit( X_train, y_train)\n"
      ],
      "metadata": {
        "id": "pB9UMUtMRFKV"
      },
      "execution_count": null,
      "outputs": []
    },
    {
      "cell_type": "code",
      "source": [
        "# Bayesian\n",
        "\n",
        "from sklearn.linear_model import BayesianRidge\n",
        "\n",
        "n_order = 3\n",
        "model = BayesianRidge(tol=1e-6, fit_intercept=False, compute_score=True)"
      ],
      "metadata": {
        "id": "bSyispqH_42O"
      },
      "execution_count": null,
      "outputs": []
    },
    {
      "cell_type": "code",
      "source": [
        "#GradientBoosting\n",
        "from sklearn.ensemble import GradientBoostingClassifier\n",
        "\n",
        "model = GradientBoostingClassifier(n_estimators=100, learning_rate=1.0,\n",
        "                                   max_depth=1, random_state=0)\n"
      ],
      "metadata": {
        "id": "_Z8onCRkDM9A"
      },
      "execution_count": null,
      "outputs": []
    },
    {
      "cell_type": "code",
      "source": [
        "model.fit(X_train, y_train)"
      ],
      "metadata": {
        "id": "Dh3zowPpAu4V"
      },
      "execution_count": null,
      "outputs": []
    },
    {
      "cell_type": "code",
      "source": [
        ""
      ],
      "metadata": {
        "id": "op16CthoAuvn"
      },
      "execution_count": null,
      "outputs": []
    },
    {
      "cell_type": "code",
      "source": [
        "answers = pd.DataFrame([np.array(y_train), model.predict(X_train)]).transpose()\n",
        "answers.columns = ['Truth', 'Predict']\n",
        "answers.index=y_train.index\n",
        "answers['Error'] = (answers['Truth']-answers['Predict'])"
      ],
      "metadata": {
        "id": "JDxUGcBHT79p"
      },
      "execution_count": null,
      "outputs": []
    },
    {
      "cell_type": "code",
      "source": [
        "answers['Truth'] = answers['Truth'].apply(lambda x: pd.Timestamp.fromordinal(int(x)).year)\n",
        "answers['Predict'] = answers['Predict'].apply(lambda x: pd.Timestamp.fromordinal(int(x)).year)\n",
        "answers['Error'] = np.abs(answers['Truth']-answers['Predict'])"
      ],
      "metadata": {
        "id": "qypDxViOXNiZ"
      },
      "execution_count": null,
      "outputs": []
    },
    {
      "cell_type": "code",
      "source": [
        "answers"
      ],
      "metadata": {
        "id": "38QUHoXAErMA"
      },
      "execution_count": null,
      "outputs": []
    },
    {
      "cell_type": "code",
      "source": [
        "answers['stddev'] = answers['Error']**2 - (answers['Error'].mean())**2"
      ],
      "metadata": {
        "id": "Dd13GXQR9pR9"
      },
      "execution_count": null,
      "outputs": []
    },
    {
      "cell_type": "code",
      "source": [
        "plt.hist(answers['stddev'])\n",
        "plt.title('Heteroskedasticity for LogReg Heuristical Test')\n",
        "plt.xlabel('interval')\n",
        "plt.ylabel('Number of Residuals')\n",
        "plt.rcParams[\"figure.figsize\"] = (20,10)\n",
        "plt.show()"
      ],
      "metadata": {
        "id": "hajg_0jH-q4n"
      },
      "execution_count": null,
      "outputs": []
    },
    {
      "cell_type": "code",
      "source": [
        "4.99e+03 /7.23e+02"
      ],
      "metadata": {
        "id": "sMDOJe46_oDX"
      },
      "execution_count": null,
      "outputs": []
    },
    {
      "cell_type": "code",
      "source": [
        "bad_ids = answers.sort_values(by='Error').tail(10).index.to_list()"
      ],
      "metadata": {
        "id": "HgBqi3SwfLvu"
      },
      "execution_count": null,
      "outputs": []
    },
    {
      "cell_type": "code",
      "source": [
        "X_test.loc[bad_ids].apply(sum).mean()"
      ],
      "metadata": {
        "id": "xYFWne9TjmyM"
      },
      "execution_count": null,
      "outputs": []
    },
    {
      "cell_type": "code",
      "source": [
        "answers['Error'].mean()"
      ],
      "metadata": {
        "id": "3hs1-SACXD3Y"
      },
      "execution_count": null,
      "outputs": []
    },
    {
      "cell_type": "code",
      "source": [
        "plt.scatter(answers.Predict/365, answers.Error/365)\n",
        "plt.title('Error to Predict  on Max Correlation Vocabulary')\n",
        "plt.xlabel('Predict')\n",
        "plt.ylabel('Error on Train')\n",
        "plt.rcParams[\"figure.figsize\"] = (20,10)\n",
        "#plt.ylim( 730000, 740000)\n",
        "plt.show()"
      ],
      "metadata": {
        "id": "NoHGNSCcTLH9"
      },
      "execution_count": null,
      "outputs": []
    },
    {
      "cell_type": "code",
      "source": [
        "X_train"
      ],
      "metadata": {
        "id": "lqJkTiw2Thpi"
      },
      "execution_count": null,
      "outputs": []
    },
    {
      "cell_type": "code",
      "source": [
        ""
      ],
      "metadata": {
        "id": "XRlxUyxwWpmq"
      },
      "execution_count": null,
      "outputs": []
    }
  ]
}