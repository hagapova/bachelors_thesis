{
  "nbformat": 4,
  "nbformat_minor": 0,
  "metadata": {
    "colab": {
      "name": "roberta.ipynb",
      "private_outputs": true,
      "provenance": [],
      "collapsed_sections": []
    },
    "kernelspec": {
      "name": "python3",
      "display_name": "Python 3"
    },
    "language_info": {
      "name": "python"
    },
    "accelerator": "GPU"
  },
  "cells": [
    {
      "cell_type": "code",
      "source": [
        "!pip install transformers"
      ],
      "metadata": {
        "id": "KBsGXxXrqrfD"
      },
      "execution_count": null,
      "outputs": []
    },
    {
      "cell_type": "code",
      "source": [
        "import os\n",
        "import pandas as pd\n",
        "from time import time\n",
        "import numpy as np\n",
        "\n",
        "import torch\n",
        "import torchvision\n",
        "from torchvision import datasets, transforms\n",
        "\n",
        "import torch.nn as nn\n",
        "import torch.nn.functional as F\n",
        "import torch.optim as optim\n",
        "\n",
        "from torch.utils.data.dataloader import DataLoader\n",
        "from torch.utils.data import random_split\n",
        "\n",
        "from sklearn.metrics import roc_auc_score\n",
        "from sklearn.metrics import roc_curve, auc\n",
        "import sklearn"
      ],
      "metadata": {
        "id": "FdUtpMbd7yuS"
      },
      "execution_count": null,
      "outputs": []
    },
    {
      "cell_type": "code",
      "source": [
        "%%capture\n",
        "import transformers\n",
        "from transformers import RobertaTokenizer, RobertaModel, RobertaConfig\n",
        "from transformers import AutoModelForSequenceClassification\n",
        "from transformers import AutoTokenizer, AutoConfig\n",
        "from transformers import TrainingArguments, Trainer\n",
        "device = torch.device(\"cuda:0\" if torch.cuda.is_available() else \"cpu\")"
      ],
      "metadata": {
        "id": "5JvL8rJuqr0F"
      },
      "execution_count": null,
      "outputs": []
    },
    {
      "cell_type": "code",
      "source": [
        "dataset = pd.read_csv('abstracts_cs_AI.csv', delimiter='|')"
      ],
      "metadata": {
        "id": "5uufZrEwqr0G"
      },
      "execution_count": null,
      "outputs": []
    },
    {
      "cell_type": "code",
      "source": [
        "dataset.Date = pd.to_datetime(dataset.Date)\n",
        "dataset.Date = dataset.Date.apply(lambda x: x.timetuple()[0])"
      ],
      "metadata": {
        "id": "4UKOYGHUqr0G"
      },
      "execution_count": null,
      "outputs": []
    },
    {
      "cell_type": "code",
      "source": [
        "dataset.drop(['Title'], axis = 1, inplace = True)"
      ],
      "metadata": {
        "id": "VJ3wCYRwqr0G"
      },
      "execution_count": null,
      "outputs": []
    },
    {
      "cell_type": "code",
      "source": [
        "dataset.head()"
      ],
      "metadata": {
        "id": "0dEVdDC2qr0G"
      },
      "execution_count": null,
      "outputs": []
    },
    {
      "cell_type": "code",
      "source": [
        "from sklearn.model_selection import train_test_split\n",
        "X_train, X_test, y_train, y_test = train_test_split(dataset['Abstract'], dataset['Date'], test_size=0.33, random_state=42)"
      ],
      "metadata": {
        "id": "W-dFmMpiqr0H"
      },
      "execution_count": null,
      "outputs": []
    },
    {
      "cell_type": "code",
      "source": [
        "train_data = pd.concat([X_train, y_train], axis=1, keys=['Abstract', 'Date'])\n",
        "train_data.head()"
      ],
      "metadata": {
        "id": "qrKQzZxjqr0H"
      },
      "execution_count": null,
      "outputs": []
    },
    {
      "cell_type": "code",
      "source": [
        "test_data = pd.concat([X_test, y_test], axis=1, keys=['Abstract', 'Date'])\n",
        "test_data.head()"
      ],
      "metadata": {
        "id": "n78y0Gg4qr0H"
      },
      "execution_count": null,
      "outputs": []
    },
    {
      "cell_type": "code",
      "source": [
        "class_encoder = sklearn.preprocessing.LabelEncoder()\n",
        "class_encoder.fit(train_data['Date'])\n",
        "train_data['Date'] = class_encoder.transform(train_data['Date'])\n",
        "train_data.head()"
      ],
      "metadata": {
        "id": "huBniwE7qr0H"
      },
      "execution_count": null,
      "outputs": []
    },
    {
      "cell_type": "code",
      "source": [
        "test_data['Date'] = 0\n",
        "test_data"
      ],
      "metadata": {
        "id": "ujIrLc3E9G_4"
      },
      "execution_count": null,
      "outputs": []
    },
    {
      "cell_type": "code",
      "source": [
        "name = 'roberta-base'\n",
        "\n",
        "config = RobertaConfig.from_pretrained(\n",
        "        name, num_labels=len(class_encoder.classes_))\n",
        "\n",
        "model = AutoModelForSequenceClassification.from_pretrained('roberta-base', config=config)\n",
        "tokenizer = RobertaTokenizer.from_pretrained('roberta-base')\n",
        "model.to(device)"
      ],
      "metadata": {
        "id": "gLq8krEhqr0I"
      },
      "execution_count": null,
      "outputs": []
    },
    {
      "cell_type": "code",
      "source": [
        "MAX_LEN = 150\n",
        "train_encodings = tokenizer(train_data['Abstract'].tolist(), truncation=True, padding=True, max_length=MAX_LEN)\n",
        "test_encodings = tokenizer(test_data['Abstract'].tolist(), truncation=True, padding=True, max_length=MAX_LEN)"
      ],
      "metadata": {
        "id": "lNLjmZI5qr0J"
      },
      "execution_count": null,
      "outputs": []
    },
    {
      "cell_type": "code",
      "source": [
        "class MyDataset(torch.utils.data.Dataset):\n",
        "    def __init__(self, dataset, encodings):\n",
        "        self.dataset = dataset\n",
        "        self.encodings = encodings\n",
        "\n",
        "    def __len__(self):\n",
        "        return self.dataset.shape[0]\n",
        "\n",
        "    def __getitem__(self, idx):\n",
        "        item = {key: torch.tensor(val[idx]) for key, val in self.encodings.items()}\n",
        "        item['Date'] = torch.tensor(self.dataset.iloc[idx]['Date'])\n",
        "        return item"
      ],
      "metadata": {
        "id": "3Ig00HK0qr0K"
      },
      "execution_count": null,
      "outputs": []
    },
    {
      "cell_type": "code",
      "source": [
        "train_dataset_full = MyDataset(train_data, train_encodings)\n",
        "test_dataset = MyDataset(test_data, test_encodings)"
      ],
      "metadata": {
        "id": "lLsznP_5qr0K"
      },
      "execution_count": null,
      "outputs": []
    },
    {
      "cell_type": "code",
      "source": [
        "train_dataset_full.__getitem__(1)"
      ],
      "metadata": {
        "id": "_9_FjS0fmauf"
      },
      "execution_count": null,
      "outputs": []
    },
    {
      "cell_type": "code",
      "source": [
        "train_size = int(0.67 * len(train_dataset_full))\n",
        "test_size = len(train_dataset_full) - train_size\n",
        "train_dataset, val_dataset = torch.utils.data.random_split(train_dataset_full, [train_size, test_size])"
      ],
      "metadata": {
        "id": "4ecZZkw3qr0K"
      },
      "execution_count": null,
      "outputs": []
    },
    {
      "cell_type": "code",
      "source": [
        "BATCH_SZ = 20\n",
        "\n",
        "train_dataloader = torch.utils.data.DataLoader(train_dataset, batch_size=BATCH_SZ, shuffle=True, drop_last=False)\n",
        "val_dataloader = torch.utils.data.DataLoader(val_dataset, batch_size=BATCH_SZ, shuffle=True, drop_last=False)\n",
        "test_dataloader = torch.utils.data.DataLoader(test_dataset, batch_size=1, shuffle=False, drop_last=False)"
      ],
      "metadata": {
        "id": "ojHfVpWnqr0K"
      },
      "execution_count": null,
      "outputs": []
    },
    {
      "cell_type": "code",
      "source": [
        "years = []\n",
        "\n",
        "for i in range(len(years)):\n",
        "  year = years[i]\n",
        "  norm = scipy.stats.norm(year, 1.0)"
      ],
      "metadata": {
        "id": "yqQfoLyEiS6u"
      },
      "execution_count": null,
      "outputs": []
    },
    {
      "cell_type": "code",
      "source": [
        "def pdfs(objects):\n",
        "  result = np.zeros(objects.shape)"
      ],
      "metadata": {
        "id": "nX-UdZs9h_qE"
      },
      "execution_count": null,
      "outputs": []
    },
    {
      "cell_type": "code",
      "source": [
        "def train_model(model, optimizer, scheduler, criterion, num_epochs=25, alpha_mixup=0, on_plateau=False, name='model'):\n",
        "    \n",
        "    train_history = []\n",
        "    val_history = []\n",
        "    time_history = []\n",
        "    \n",
        "    start = time()\n",
        "\n",
        "    for epoch in range(num_epochs):\n",
        "        \n",
        "        print('Epoch %i / %i \\n' %(epoch + 1, num_epochs))\n",
        "\n",
        "        model.train()\n",
        "        statistics = {'loss':0, 'n_correct':0, 'size':0}\n",
        "        \n",
        "        for step, batch in enumerate(train_dataloader):\n",
        "            input_ids = batch['input_ids'].to(device)\n",
        "            attention_mask = batch['attention_mask'].to(device)\n",
        "            labels = batch['Date'].to(device)\n",
        "\n",
        "            if step % (len(train_dataloader)//30) == 0:\n",
        "              current = time() - start\n",
        "              print('  Batch %i  of  %i;\\tElapsed time: ' %(step + 1, len(train_dataloader)) +\n",
        "                    '%im %is' %(int(current / 60), int(current % 60)))\n",
        "                \n",
        "            optimizer.zero_grad()\n",
        "  \n",
        "            outputs = model(input_ids, attention_mask=attention_mask, labels=labels)\n",
        "            #loss = outputs.loss\n",
        "            probs = pdfs(input_ids)\n",
        "            loss = loss_criterion(outputs.pooler_output, probs)\n",
        "            \n",
        "            loss.backward()\n",
        "            optimizer.step()\n",
        "            scheduler.step()\n",
        "\n",
        "            _, pred = torch.max(outputs.logits, 1)\n",
        "            n_correct = ((pred.cpu().numpy() >= labels.cpu().numpy() - 1) &\n",
        "                         (pred.cpu().numpy() <= labels.cpu().numpy() + 1)).sum()\n",
        "            \n",
        "            statistics['loss'] += loss.item()\n",
        "            statistics['n_correct'] += n_correct\n",
        "            statistics['size'] += len(input_ids)\n",
        "\n",
        "        train_loss = statistics['loss'] / statistics['size']\n",
        "        train_acc = statistics['n_correct'] / statistics['size']\n",
        "        train_history.append(train_acc)\n",
        "    \n",
        "        print(\"train statistics:   \\t loss: %.3f\\t accuracy: %.3f\"  %(train_loss, train_acc), '\\n')\n",
        "                \n",
        "        print('validation in progress... \\n')\n",
        "        model.eval()\n",
        "        statistics = {'loss':0, 'n_correct':0, 'size':0}\n",
        "        \n",
        "        for step, batch in enumerate(val_dataloader):\n",
        "            input_ids = batch['input_ids'].to(device)\n",
        "            attention_mask = batch['attention_mask'].to(device)\n",
        "            labels = batch['Date'].to(device)\n",
        "    \n",
        "            with torch.no_grad():\n",
        "                outputs = model(input_ids, attention_mask=attention_mask, labels=labels)\n",
        "                loss = outputs.loss\n",
        "                _, pred = torch.max(outputs.logits, 1)\n",
        "                n_correct = ((pred.cpu().numpy() >= labels.cpu().numpy() - 1) &\n",
        "                         (pred.cpu().numpy() <= labels.cpu().numpy() + 1)).sum()\n",
        "\n",
        "            statistics['loss'] += loss.item()\n",
        "            statistics['n_correct'] += n_correct\n",
        "            statistics['size'] += len(input_ids)\n",
        "            \n",
        "        val_loss = statistics['loss'] / statistics['size']\n",
        "        val_acc = statistics['n_correct'] / statistics['size']\n",
        "        val_history.append(val_acc)\n",
        "        \n",
        "        print(\"validation statistics:\\t loss: %.3f\\tAccuracy: %.3f \\n\"  %(val_loss, val_acc))\n",
        "        current = time()-start\n",
        "        print(\"epoch time: %im %is\" %(int(current / 60), int(current % 60)))\n",
        "\n",
        "    return model, train_history, val_history"
      ],
      "metadata": {
        "id": "aKh1dy3Pqr0K"
      },
      "execution_count": null,
      "outputs": []
    },
    {
      "cell_type": "code",
      "source": [
        "optimizer = transformers.AdamW(model.parameters(), lr=5e-5)\n",
        "scheduler = transformers.get_linear_schedule_with_warmup(optimizer, num_warmup_steps=500, num_training_steps=1000000)\n",
        "\n",
        "model, train_history, val_history = train_model(model, optimizer, scheduler, \n",
        "                                                nn.MSELoss(), \n",
        "                                                num_epochs=40)\n",
        "\n"
      ],
      "metadata": {
        "id": "SnIqb7ieqr0L"
      },
      "execution_count": null,
      "outputs": []
    },
    {
      "cell_type": "code",
      "source": [
        ""
      ],
      "metadata": {
        "id": "0fqX7FzA6aoS"
      },
      "execution_count": null,
      "outputs": []
    },
    {
      "cell_type": "code",
      "source": [
        "text = 'Using an iterative tree construction we show that for simple computable subsets of the Cantor space Hausdorff, constructive and computable dimensions might be incomputable.'"
      ],
      "metadata": {
        "id": "1mZCCgmNSf8r"
      },
      "execution_count": null,
      "outputs": []
    },
    {
      "cell_type": "code",
      "source": [
        "encoding = tokenizer(text, return_tensors='pt', padding=True, truncation=True)\n",
        "input_ids = encoding['input_ids']\n",
        "attention_mask = encoding['attention_mask']\n"
      ],
      "metadata": {
        "id": "2_cNsc08LRA6"
      },
      "execution_count": null,
      "outputs": []
    }
  ]
}